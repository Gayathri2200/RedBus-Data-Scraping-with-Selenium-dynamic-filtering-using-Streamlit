{
 "cells": [
  {
   "cell_type": "markdown",
   "id": "1fe0e7e5",
   "metadata": {},
   "source": [
    "# Connecting to database"
   ]
  },
  {
   "cell_type": "code",
   "execution_count": 4,
   "id": "12949787",
   "metadata": {},
   "outputs": [
    {
     "name": "stdout",
     "output_type": "stream",
     "text": [
      "Requirement already satisfied: mysql-connector-python in c:\\users\\adith\\.conda\\include\\new folder\\lib\\site-packages (9.0.0)\n",
      "Note: you may need to restart the kernel to use updated packages.\n",
      "Data inserted successfully!\n"
     ]
    }
   ],
   "source": [
    "\n",
    "%pip install mysql-connector-python\n",
    "import pandas as pd\n",
    "import glob\n",
    "import mysql.connector\n",
    "\n",
    "# List of CSV file paths\n",
    "csv_files = [\"red_bus_details_data.csv\"]\n",
    "\n",
    "# Read each CSV file into a DataFrame and concatenate them into a single DataFrame\n",
    "df_list = [pd.read_csv(file) for file in csv_files]\n",
    "df = pd.concat(df_list, ignore_index=True)\n",
    "\n",
    "\n",
    "# Extract the digits (0-9)\n",
    "df['Seat_Availability'] = df['Seat_Availability'].str.extract('(\\d+)')\n",
    "\n",
    "# Drop null values\n",
    "df = df.dropna()\n",
    "\n",
    "# Python MySQL connection\n",
    "myconnection = mysql.connector.connect(\n",
    "    host='localhost',\n",
    "    user='root',\n",
    "    passwd='gayu7102',\n",
    "    database=\"redbus_details\"\n",
    ")\n",
    "\n",
    "# Replace pandas dtypes with MySQL compatible types\n",
    "dtype_mapping = {\n",
    "    \"float64\": \"float\",\n",
    "    \"object\": \"text\",\n",
    "    \"int64\": \"int\"\n",
    "}\n",
    "\n",
    "# Create the table with the appropriate column types\n",
    "columns_and_types = \", \".join(f\"{col} {dtype_mapping[str(dtype)]}\"\n",
    "                              for col, dtype in zip(df.columns, df.dtypes))\n",
    "table_name = \"bus_routes_data\"\n",
    "create_table_query = f\"CREATE TABLE IF NOT EXISTS {table_name} ({columns_and_types})\"\n",
    "cursor = myconnection.cursor()\n",
    "cursor.execute(create_table_query)\n",
    "\n",
    "# Insert data into the table\n",
    "insert_query = f\"INSERT INTO {table_name} VALUES ({', '.join(['%s'] * len(df.columns))})\"\n",
    "for i in range(len(df)):\n",
    "    cursor.execute(insert_query, tuple(df.iloc[i]))\n",
    "\n",
    "# Commit the transaction\n",
    "myconnection.commit()\n",
    "\n",
    "# Close the connection\n",
    "cursor.close()\n",
    "myconnection.close()\n",
    "\n",
    "print(\"Data inserted successfully!\")"
   ]
  },
  {
   "cell_type": "code",
   "execution_count": null,
   "id": "022ff65e",
   "metadata": {},
   "outputs": [],
   "source": []
  }
 ],
 "metadata": {
  "kernelspec": {
   "display_name": "Python 3 (ipykernel)",
   "language": "python",
   "name": "python3"
  },
  "language_info": {
   "codemirror_mode": {
    "name": "ipython",
    "version": 3
   },
   "file_extension": ".py",
   "mimetype": "text/x-python",
   "name": "python",
   "nbconvert_exporter": "python",
   "pygments_lexer": "ipython3",
   "version": "3.11.3"
  }
 },
 "nbformat": 4,
 "nbformat_minor": 5
}
